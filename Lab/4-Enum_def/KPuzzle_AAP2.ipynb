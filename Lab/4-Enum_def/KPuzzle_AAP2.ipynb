{
 "cells": [
  {
   "cell_type": "markdown",
   "metadata": {},
   "source": [
    "<div style=\"padding:30px; color: white; background-color: #0071CD\">\n",
    "<center>\n",
    "<p>\n",
    "<h1>Algorítimica Avançada</h1>\n",
    "<h2>Exámen práctico II - KPuzzle </h2>\n",
    "</center>\n",
    "</p>\n",
    "</div>"
   ]
  },
  {
   "cell_type": "markdown",
   "metadata": {},
   "source": [
    "<div class=\"alert alert-danger\">\n",
    "<center>\n",
    "  <h1>ATENCIÓN!</h1>\n",
    "  \n",
    "  Para realizar la entrega, hay que subir únicamente este fichero renombrado como: __*apellidos*_*nombre*_KPuzzle_AAP2.ipynb__\n",
    "</center>"
   ]
  },
  {
   "cell_type": "markdown",
   "metadata": {},
   "source": [
    "<div class=\"alert alert-info\">\n",
    "<center>\n",
    "  <h1>Introducción</h1>\n",
    "</center>"
   ]
  },
  {
   "cell_type": "markdown",
   "metadata": {},
   "source": [
    "El 8-Puzzle es un conocido puzzle deslizante que consiste en una cuadrícula de elementos numerados donde uno de los elementos no tiene ningún valor. El siguiente código muestra un ejemplo de un tablero resuelto, y un tablero por resolver: "
   ]
  },
  {
   "cell_type": "code",
   "execution_count": 2,
   "metadata": {},
   "outputs": [
    {
     "ename": "SyntaxError",
     "evalue": "Missing parentheses in call to 'print'. Did you mean print(\"Ejemplo de tablero resuelto:\")? (<ipython-input-2-9a8cf79c4342>, line 6)",
     "output_type": "error",
     "traceback": [
      "\u001b[1;36m  File \u001b[1;32m\"<ipython-input-2-9a8cf79c4342>\"\u001b[1;36m, line \u001b[1;32m6\u001b[0m\n\u001b[1;33m    print \"Ejemplo de tablero resuelto:\"\u001b[0m\n\u001b[1;37m                                       ^\u001b[0m\n\u001b[1;31mSyntaxError\u001b[0m\u001b[1;31m:\u001b[0m Missing parentheses in call to 'print'. Did you mean print(\"Ejemplo de tablero resuelto:\")?\n"
     ]
    }
   ],
   "source": [
    "from npuzzle import NPuzzle\n",
    "np = NPuzzle()\n",
    "board = np.create_board()\n",
    "solved_board = np.create_board(solved=True)\n",
    "\n",
    "print \"Ejemplo de tablero resuelto:\"\n",
    "np.print_board(solved_board)\n",
    "print \"\\nEjemplo de tablero no resuelto:\"\n",
    "np.print_board(board)\n"
   ]
  },
  {
   "cell_type": "markdown",
   "metadata": {},
   "source": [
    "En este ejercicio queremos resolver de forma automática cualquier 8Puzzle propuesto utilizando __Branch & Bound__. Para simplificar la implementación se os da la clase __NPuzzle__ que os permite realizar las acciones más comunes sobre un tablero."
   ]
  },
  {
   "cell_type": "code",
   "execution_count": 1,
   "metadata": {},
   "outputs": [
    {
     "ename": "SyntaxError",
     "evalue": "Missing parentheses in call to 'print'. Did you mean print(\"Imprimir tablero:\")? (<ipython-input-1-228b5b5b4f9b>, line 8)",
     "output_type": "error",
     "traceback": [
      "\u001b[1;36m  File \u001b[1;32m\"<ipython-input-1-228b5b5b4f9b>\"\u001b[1;36m, line \u001b[1;32m8\u001b[0m\n\u001b[1;33m    print \"Imprimir tablero:\"\u001b[0m\n\u001b[1;37m                            ^\u001b[0m\n\u001b[1;31mSyntaxError\u001b[0m\u001b[1;31m:\u001b[0m Missing parentheses in call to 'print'. Did you mean print(\"Imprimir tablero:\")?\n"
     ]
    }
   ],
   "source": [
    "# Crear la clase NPuzzle\n",
    "np = NPuzzle()\n",
    "\n",
    "# Crear un tablero nuevo:\n",
    "board = np.create_board()\n",
    "\n",
    "# Imprimir el tablero\n",
    "print \"Imprimir tablero:\"\n",
    "np.print_board(board)\n",
    "print \"\"\n",
    "\n",
    "# Mostrar los movimientos posibles en un estado, L=Left, R=Right, U=Up, D=Down\n",
    "am = np.allowed_moves(board)\n",
    "print \"Movimientos posibles:\"\n",
    "print am\n",
    "print \"\"\n",
    "\n",
    "# Mover una pieza\n",
    "new_board = np.move(board, am[0])\n",
    "print \"Tablero despues de realizar el movimiento\", am[0]\n",
    "np.print_board(new_board)\n",
    "print \"\"\n",
    "\n",
    "# Comprobar el estado (True si está solucionado, False si no lo está)\n",
    "print \"La condición de final de juego es:\", np.state(new_board)"
   ]
  },
  {
   "cell_type": "markdown",
   "metadata": {},
   "source": [
    "<div class=\"alert alert-info\">\n",
    "<center>\n",
    "  <h1>Código</h1>\n",
    "</center>"
   ]
  },
  {
   "cell_type": "markdown",
   "metadata": {},
   "source": [
    "\n",
    "<div class=\"alert alert-success\" style=\"width:90%; margin:0 auto;\">\n",
    "\n",
    "  <p>\n",
    "  Se os pide que programéis una función que sea capaz de resolver un 8-Puzzle dada cualquier posible configuración inicial (La función NPuzzle.create_board solo devuelve configuraciones que tengan solución)\n",
    "  </p>\n",
    "  <p>\n",
    "  La implementación del algoritmo ha de ser utilizando ramificación y poda. Para ramificar el arbol de estados utilizaremos como heurística la suma de la distáncia de Manhattan de todas las piezas a su posición objetivo. Esta función se os da implementada de la siguiente forma: **NPuzzle.manhattan_distance(board)**\n",
    "  </p>\n",
    "  <p>\n",
    "  El objetivo del código es encontrar la solución óptima, que en este caso es la que tiene un menor número de pasos. Por lo tanto, para la implementación de la poda, utilizaremos como valor de cota la profundidad.\n",
    " </p>\n",
    "  <p>"
   ]
  },
  {
   "cell_type": "markdown",
   "metadata": {},
   "source": [
    "<div class=\"alert alert-danger\" style=\"width:80%; margin:0 auto; padding\">\n",
    "<center><p><h3> Tips and Tricks </h3></p> </center>\n",
    "<p>\n",
    "<ul>\n",
    "<li>\n",
    "Hay que tener cuidado con los estados repetidos. Se os da la función **NPuzzle.get_state_id(board)** para poder obtener un string único dado un tablero.\n",
    "</li>\n",
    "<li>\n",
    "Para la ramificación, la clase NPuzzle incluye **NPuzzle.manhattan_distance(board)**.\n",
    "</li>\n",
    "\n",
    "\n",
    "</p>\n",
    "</div>\n"
   ]
  },
  {
   "cell_type": "code",
   "execution_count": null,
   "metadata": {},
   "outputs": [],
   "source": [
    "%reset -f\n",
    "from npuzzle import NPuzzle\n",
    "\n",
    "def solve(board):\n",
    "    '''\n",
    "    Función para la resolución de un KPuzzle.\n",
    "    \n",
    "    :param board: Tablero del KPuzzle que queremos resolver\n",
    "    :type board: numpy.array\n",
    "    :returns: diccionario que contiene 'n_moves', 'expanded_nodes' y 'final_board'.\n",
    "    :rtype: dict\n",
    "    '''\n",
    "    global puzzle\n",
    "    \n",
    "    return {\n",
    "        # Número de movimientos hasta alcanzar la solución\n",
    "        'n_moves' : 0,\n",
    "        # Número de nodos expandidos en total\n",
    "        'expanded_nodes' : 0,\n",
    "        # Tablero en el estado final\n",
    "        'final_board' : board\n",
    "    }\n",
    "\n",
    "def bound(states):\n",
    "    '''\n",
    "    Poda de una lista de estados\n",
    "    \n",
    "    :param board: lista de estados que queremos podar\n",
    "    :type states: list\n",
    "    :returns: la lista de estados podada\n",
    "    :rtype: list\n",
    "    '''\n",
    "    global puzzle\n",
    "    bounded_states = []\n",
    "    \n",
    "    return bounded_states"
   ]
  },
  {
   "cell_type": "code",
   "execution_count": null,
   "metadata": {
    "collapsed": true
   },
   "outputs": [],
   "source": [
    "# TEST #\n",
    "puzzle = NPuzzle()\n",
    "board = puzzle.create_board()\n",
    "solve(board)"
   ]
  },
  {
   "cell_type": "markdown",
   "metadata": {},
   "source": [
    "<div class=\"alert alert-info\">\n",
    "<center>\n",
    "  <h1>Preguntas</h1>\n",
    "</center>"
   ]
  },
  {
   "cell_type": "markdown",
   "metadata": {},
   "source": [
    "### 1. Como has implementado el algoritmo?\n",
    "\n",
    "_CONTESTAR AQUÍ_\n",
    "\n",
    "### 2. Que criterios utilizas para hacer la poda?\n",
    "\n",
    "_CONTESTAR AQUÍ_\n",
    "\n",
    "### 3. Realiza un análisis de complejidad del algoritmo\n",
    "\n",
    "_CONTESTAR AQUÍ_"
   ]
  },
  {
   "cell_type": "code",
   "execution_count": null,
   "metadata": {
    "collapsed": true
   },
   "outputs": [],
   "source": []
  }
 ],
 "metadata": {
  "kernelspec": {
   "display_name": "Python 3",
   "language": "python",
   "name": "python3"
  },
  "language_info": {
   "codemirror_mode": {
    "name": "ipython",
    "version": 3
   },
   "file_extension": ".py",
   "mimetype": "text/x-python",
   "name": "python",
   "nbconvert_exporter": "python",
   "pygments_lexer": "ipython3",
   "version": "3.6.5"
  }
 },
 "nbformat": 4,
 "nbformat_minor": 1
}
