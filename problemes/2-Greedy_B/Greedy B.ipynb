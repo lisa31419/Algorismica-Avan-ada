{
 "cells": [
  {
   "cell_type": "markdown",
   "metadata": {},
   "source": [
    "<div style=\"padding:30px; color: white; background-color: #0071CD\">\n",
    "<center>\n",
    "<img src=\"img/logoub.jpeg\">\n",
    "<center>\n",
    "<p>\n",
    "<h1>Algorítmica Avanzada</h1>\n",
    "<h2>Problemas 2.B - Greedy </h2>\n",
    "</center>\n",
    "</p>\n",
    "</div>"
   ]
  },
  {
   "cell_type": "markdown",
   "metadata": {},
   "source": [
    "<div class=\"alert alert-success\" style=\"width:90%; margin:0 auto;\">\n",
    "  <h2><p>4 - El número más grande</p></h2>\n",
    "  \n",
    "  <p>\n",
    "  Dados dos números, $N$ y $S$, encuentra el número más grande posible de $N$ dígitos tal que la suma de dichos dígitos sea $S$.\n",
    "  </p>"
   ]
  },
  {
   "cell_type": "markdown",
   "metadata": {},
   "source": [
    "<div class=\"alert alert-danger\" style=\"width:80%; margin:0 auto; padding\">\n",
    "<center><p><h3> Código </h3></p> </center> \n",
    "\n",
    "<p>\n",
    "<h3>INPUT</h3>\n",
    "<ul>\n",
    "<li>__N__: Número de dígitos.</li>\n",
    "<li>__S__: Suma de los dígitos.</li>\n",
    "</ul>\n",
    "<br>\n",
    "<h3>OUTPUT</h3>\n",
    "<ul>\n",
    "<li>__T__: Número que cumple las condiciones requeridas.</li>\n",
    "<ul>\n",
    "\n",
    "</p>\n",
    "\n",
    "</div>"
   ]
  },
  {
   "cell_type": "code",
   "execution_count": 1,
   "metadata": {},
   "outputs": [],
   "source": [
    "def largest_number(N, S):\n",
    "    print(N)\n",
    "    print(S)\n",
    "    T = []\n",
    "    for i in range(N):   #Retocar con los modulos\n",
    "        if(S>9):\n",
    "            S -= 9\n",
    "            T.append(9)\n",
    "        elif(S>8):\n",
    "            S -= 8\n",
    "            T.append(8)\n",
    "        elif(S>7):\n",
    "            S -= 7\n",
    "            T.append(7)\n",
    "        elif(S>6):\n",
    "            S -= 6\n",
    "            T.append(6)\n",
    "        elif(S>5):\n",
    "            S -= 5\n",
    "            T.append(5)\n",
    "        elif(S>4):\n",
    "            S -= 4\n",
    "            T.append(4)\n",
    "        elif(S>3):\n",
    "            S -= 3\n",
    "            T.append(3)\n",
    "        elif(S>2):\n",
    "            S -= 2\n",
    "            T.append(2)\n",
    "        elif(S>1):\n",
    "            S -= 1\n",
    "            T.append(1)\n",
    "        else:\n",
    "            T.append(0)\n",
    "    total = 0\n",
    "    numeroT = \"\"\n",
    "    for i in T:\n",
    "        numeroT += str(i)\n",
    "        total+= i\n",
    "    print(total)\n",
    "    return int(numeroT)"
   ]
  },
  {
   "cell_type": "code",
   "execution_count": 2,
   "metadata": {},
   "outputs": [
    {
     "name": "stdout",
     "output_type": "stream",
     "text": [
      "40\n",
      "170\n",
      "169\n"
     ]
    },
    {
     "data": {
      "text/plain": [
       "9999999999999999997000000000000000000000"
      ]
     },
     "execution_count": 2,
     "metadata": {},
     "output_type": "execute_result"
    }
   ],
   "source": [
    "from random import randint\n",
    "\n",
    "n = randint(1, 50)\n",
    "s = randint(1, 500)\n",
    "\n",
    "largest_number(n, s)"
   ]
  },
  {
   "cell_type": "code",
   "execution_count": null,
   "metadata": {},
   "outputs": [],
   "source": [
    "'9'*floor(S/9) + mal S"
   ]
  },
  {
   "cell_type": "code",
   "execution_count": 4,
   "metadata": {},
   "outputs": [],
   "source": [
    "#corregido\n",
    "def largest_number(N, S):\n",
    "    if N*9 < S:\n",
    "        return -1;\n",
    "    T =''\n",
    "    for i in range(N):\n",
    "        if S> 8:\n",
    "            T+= '9'\n",
    "            S-= 9\n",
    "        else:\n",
    "            T += str(S)\n",
    "            S= 0\n",
    "    return int(T)"
   ]
  },
  {
   "cell_type": "code",
   "execution_count": 8,
   "metadata": {},
   "outputs": [
    {
     "data": {
      "text/plain": [
       "999999999999200000000000000000"
      ]
     },
     "execution_count": 8,
     "metadata": {},
     "output_type": "execute_result"
    }
   ],
   "source": [
    "from random import randint\n",
    "\n",
    "n = randint(1, 50)\n",
    "s = randint(1, 500)\n",
    "\n",
    "largest_number(n, s)"
   ]
  },
  {
   "cell_type": "code",
   "execution_count": 2,
   "metadata": {},
   "outputs": [],
   "source": [
    "def largest_number(N, S):\n",
    "    T = ''\n",
    "    resto = S%9 \n",
    "    num_nueves = int((S-resto)/9)\n",
    "    \n",
    "    if( num_nueves > N):\n",
    "        print('Es imposible hacer este caso con ' + str(N) +' digitos para una suma de '+ str(S))\n",
    "    else:\n",
    "        \n",
    "        for i in range(0, num_nueves):\n",
    "            T += '9'\n",
    "            \n",
    "        T += str(resto)\n",
    "        \n",
    "        while len(T) < N:\n",
    "            T += '0'\n",
    "\n",
    "        return int(T)"
   ]
  },
  {
   "cell_type": "code",
   "execution_count": 8,
   "metadata": {},
   "outputs": [
    {
     "data": {
      "text/plain": [
       "9996000000000000000000000000000"
      ]
     },
     "execution_count": 8,
     "metadata": {},
     "output_type": "execute_result"
    }
   ],
   "source": [
    "from random import randint\n",
    "\n",
    "n = randint(1, 50)\n",
    "s = randint(1, 500)\n",
    "\n",
    "largest_number(n, s)"
   ]
  },
  {
   "cell_type": "markdown",
   "metadata": {},
   "source": [
    "<div class=\"alert alert-success\" style=\"width:90%; margin:0 auto;\">\n",
    "  <h2><p>5 - Minimiza la suma del producto</p></h2>\n",
    "  \n",
    "  <p>\n",
    "  Dadas dos listas de números $A$ y $B$ del mismo tamaño $N$, minimiza $A[0]*B[0] + A[1]*B[1] + ... + A[N]*B[N]$ cambiando de orden los elementos de la listas.\n",
    "  </p>"
   ]
  },
  {
   "cell_type": "markdown",
   "metadata": {},
   "source": [
    "<div class=\"alert alert-danger\" style=\"width:80%; margin:0 auto; padding\">\n",
    "<center><p><h3> Código </h3></p> </center> \n",
    "\n",
    "<p>\n",
    "<h3>INPUT</h3>\n",
    "<ul>\n",
    "<li>__A__: Lista de números.</li>\n",
    "<li>__B__: Lista de números.</li>\n",
    "</ul>\n",
    "<br>\n",
    "<h3>OUTPUT</h3>\n",
    "<ul>\n",
    "<li>__S__: Suma de productos.</li>\n",
    "<ul>\n",
    "\n",
    "</p>\n",
    "\n",
    "</div>"
   ]
  },
  {
   "cell_type": "code",
   "execution_count": 3,
   "metadata": {},
   "outputs": [],
   "source": [
    "def minimize_sum_prod(A, B): #We are going to do the product with the minimun value of the list A and the maximun of the B \n",
    "    A.sort()\n",
    "    B.sort(reverse = True)\n",
    "    S = 0\n",
    "    for i in range (len(A)):\n",
    "        S += A[i]*B[i] \n",
    "    return S"
   ]
  },
  {
   "cell_type": "code",
   "execution_count": null,
   "metadata": {},
   "outputs": [],
   "source": [
    "import numpy as np\n",
    "def minimize_sum_prod(A, B):\n",
    "    A = A.copy()\n",
    "    B = B.copy()\n",
    "    S = 0\n",
    "    while A:\n",
    "        a= max(A)\n",
    "        b = min(b)\n",
    "        S += a*b\n",
    "        A.remove(a)\n",
    "        B.remove(b)\n",
    "    return S\n",
    "def minimize_sum_prod2(A,B):\n",
    "    A2 = sorted(A,reverse=True)\n",
    "    B2 = sorted(B)\n",
    "    S= 0\n",
    "    a,b = 0,0\n",
    "    "
   ]
  },
  {
   "cell_type": "code",
   "execution_count": 4,
   "metadata": {},
   "outputs": [
    {
     "data": {
      "text/plain": [
       "83635"
      ]
     },
     "execution_count": 4,
     "metadata": {},
     "output_type": "execute_result"
    }
   ],
   "source": [
    "from random import randint\n",
    "\n",
    "N = 50\n",
    "A = [randint(1,100) for _ in range(N)]\n",
    "B = [randint(1,100) for _ in range(N)]\n",
    "minimize_sum_prod(A,B)"
   ]
  },
  {
   "cell_type": "code",
   "execution_count": 3,
   "metadata": {},
   "outputs": [],
   "source": [
    "def minimize_sum_prod(A, B):\n",
    "    A_ordenada = sorted(A)\n",
    "    B_ordenada_reverse = sorted(B)\n",
    "    B_ordenada_reverse.reverse()  \n",
    "    S = 0\n",
    "\n",
    "    for i in range(0, len(A_ordenada)):\n",
    "        S += A_ordenada[i]*B_ordenada_reverse[i]\n",
    "        \n",
    "    return S"
   ]
  },
  {
   "cell_type": "code",
   "execution_count": 4,
   "metadata": {},
   "outputs": [
    {
     "data": {
      "text/plain": [
       "86285"
      ]
     },
     "execution_count": 4,
     "metadata": {},
     "output_type": "execute_result"
    }
   ],
   "source": [
    "from random import randint\n",
    "\n",
    "N = 50\n",
    "A = [randint(1,100) for _ in range(N)]\n",
    "B = [randint(1,100) for _ in range(N)]\n",
    "minimize_sum_prod(A,B)"
   ]
  },
  {
   "cell_type": "markdown",
   "metadata": {},
   "source": [
    "  <div class=\"alert alert-success\" style=\"width:90%; margin:0 auto;\">\n",
    "\n",
    "  <h2><p>6- El problema de la mochila</p></h2>\n",
    "  \n",
    "  <center><img src=\"img/knapsack.png\" width=30%></center>\n",
    "  \n",
    "  <p>\n",
    "    Nos encontramos en una habitación en la que hay $N$ objetos, cada cual con un peso $w_1, w_2, w_3 ... w_N$ y un valor $v_1, v_2, v_3 ... v_N$. Disponemos de una mochila que puede soportar una carga máxima de $W$.\n",
    "    Se os pide que implementéis un algoritmo greedy Greedy para conseguir llenar la mochila maximizando el valor total de la misma. Es decir queremos encontrar la combinación de objetos $b$ tal que $\\arg_{b} \\max{\\sum_{i=0}^{N}{v_i · b_i}}$ manteniendo siempre cierto que no superamos el peso máximo de la mochila: $\\sum_{i=0}^{N}{(w_i · b_i)}\\leq W$.\n",
    "     \n",
    "</p>"
   ]
  },
  {
   "cell_type": "markdown",
   "metadata": {},
   "source": [
    "<div class=\"alert alert-danger\" style=\"width:80%; margin:0 auto; padding\">\n",
    "<center><p><h3> Código </h3></p> </center> \n",
    "\n",
    "<p>\n",
    "<h3>INPUT</h3>\n",
    "<ul>\n",
    "<li>__Items__: Lista de objetos en forma de tuplas (peso, valor).</li>\n",
    "</ul>\n",
    "<br>\n",
    "<h3>OUTPUT</h3>\n",
    "<ul>\n",
    "<li>__Packed__: Lista de objetos que nos llevaremos en la mochila.</li>\n",
    "<ul>\n",
    "\n",
    "</p>\n",
    "\n",
    "</div>"
   ]
  },
  {
   "cell_type": "code",
   "execution_count": 5,
   "metadata": {},
   "outputs": [],
   "source": [
    "\n",
    "# Mochila Greedy corregida\n",
    "def knapsack(W, items):\n",
    "    relaciones = []\n",
    "    Packed = []\n",
    "    for i in items:\n",
    "        relaciones.append([i[0]/i[1],i[0],i[1]])\n",
    "    relaciones.sort()\n",
    "    totalPeso = 0\n",
    "    totalAcumulado = 0\n",
    "    for i in relaciones:\n",
    "        if(totalPeso+i[1] < W):\n",
    "            Packed.append([i[1],i[2]])\n",
    "            totalPeso += i[1]\n",
    "            totalAcumulado += i[2]\n",
    "        else:\n",
    "            break\n",
    "    return Packed"
   ]
  },
  {
   "cell_type": "code",
   "execution_count": 15,
   "metadata": {},
   "outputs": [],
   "source": [
    "def knapsack(W, items):\n",
    "    packed = []\n",
    "    for item in sorted(items, key = lambda i: i[1]/i[0]):\n",
    "    #print(item,item[1]/item[0])\n",
    "        if item[0]<W:\n",
    "            packed += [item]\n",
    "            W -= item[0]\n",
    "    return packed"
   ]
  },
  {
   "cell_type": "code",
   "execution_count": 18,
   "metadata": {},
   "outputs": [],
   "source": [
    "def knapsack(W, items):\n",
    "    valor_total = 0\n",
    "    peso_total = 0\n",
    "    packed = []\n",
    "    \n",
    "    items.sort(key = lambda x : x[0]/x[1])\n",
    "    \n",
    "    for elem in items:\n",
    "        if W > elem[0]:\n",
    "            W -=elem[0]\n",
    "            packed.append(elem)\n",
    "            valor_total += elem[1]\n",
    "            peso_total += elem[0]\n",
    "            \n",
    "    return packed"
   ]
  },
  {
   "cell_type": "code",
   "execution_count": 7,
   "metadata": {},
   "outputs": [
    {
     "name": "stdout",
     "output_type": "stream",
     "text": [
      "Value: 922.7605543556898\n",
      "Weight: 0.9725871363777979\n",
      "[[0.08623289279108359, 84.01184311619217], [0.2449944240978503, 26.47195026604915], [1.603917087345398, 84.98820674921777], [2.8996340462058177, 53.129979548498], [5.513620448431389, 65.50285244706512], [0.968990451287084, 10.860694239034686], [8.265807497434825, 82.77831511828275], [8.149682015608391, 80.80887747540324], [7.6276378771714235, 73.03858212576053], [3.5955649039143553, 32.26172421182427], [3.826320674768052, 34.244235605926335], [3.506711945198679, 31.258279776644237], [9.078378225874285, 79.25285150268235], [6.222758981959562, 37.576964511429345], [6.526532453401558, 36.57609774300511], [4.803677360914319, 24.33314846816762], [8.441101942983849, 39.91517958627851], [2.868910586546542, 13.461221452641126], [3.084769160736692, 12.137189635552748], [3.557797113881958, 11.254843830025074], [6.3856735472266655, 8.897516946009908]]\n"
     ]
    }
   ],
   "source": [
    "from random import uniform\n",
    "\n",
    "W = 100\n",
    "N_items = 25\n",
    "items = [(uniform(0.01, 10), uniform(0, 100)) for _ in range(N_items)]\n",
    "\n",
    "packed  = knapsack(W, items)\n",
    "print(\"Value:\", sum(item[1] for item in packed))\n",
    "print(\"Weight:\", sum(item[0] for item in packed) / W)\n",
    "\n",
    "print(knapsack(W, items))"
   ]
  },
  {
   "cell_type": "code",
   "execution_count": null,
   "metadata": {},
   "outputs": [],
   "source": []
  }
 ],
 "metadata": {
  "kernelspec": {
   "display_name": "Python 3",
   "language": "python",
   "name": "python3"
  },
  "language_info": {
   "codemirror_mode": {
    "name": "ipython",
    "version": 3
   },
   "file_extension": ".py",
   "mimetype": "text/x-python",
   "name": "python",
   "nbconvert_exporter": "python",
   "pygments_lexer": "ipython3",
   "version": "3.6.5"
  }
 },
 "nbformat": 4,
 "nbformat_minor": 2
}
