{
 "cells": [
  {
   "cell_type": "markdown",
   "metadata": {},
   "source": [
    "<div style=\"padding:30px; color: white; background-color: #0071CD\">\n",
    "<center>\n",
    "    <img src=\"img/logoub.jpeg\"></img>\n",
    "<p>\n",
    "<h1>Algorítmica Avanzada</h1>\n",
    "<h2>Problemas Enumerativos</h2>\n",
    "</center>\n",
    "</p>\n",
    "</div>"
   ]
  },
  {
   "cell_type": "markdown",
   "metadata": {},
   "source": [
    "<div class=\"alert alert-info\">\n",
    "<center>\n",
    "  <h1>Backtracking</h1>\n",
    "</center>\n",
    "</div>"
   ]
  },
  {
   "cell_type": "markdown",
   "metadata": {},
   "source": [
    "<div class=\"alert alert-success\" style=\"width:90%; margin:0 auto;\">\n",
    "<h2><p>0. Cartas</p></h2>\n",
    "<p>\n",
    "Supongamos que tenemos un conjunto de parejas de cartas del mismo valor. En particular, tenemos parejas de cartas hasta N. Por ejemplo, para $N=3$ tendríamos una pareja de 1s, una de 2s y una de 3s (un total de 6 cartas). Lo que queremos es encontrar la manera de ordenarlas para que entre las dos cartas de valor $n_i$ haya exactamente $n_i$ cartas. En el ejemplo con $N=3$ tendríamos la siguiente solución:\n",
    "</p>\n",
    "<center> <b>   3 - 1 - 2 - 1- 3 - 2 </b></center>\n",
    "<p>\n",
    "Podemos observar que entre los 3 hay tres cartas, entre los 2 hay dos y entre los 1 solo hay una. Dependiendo del tamaño de N el problema podría no tener solución. Por ejemplo $N=5$ o $N=6$. Se pide la implementación de un algoritmo que, mediante backtracking, devuelva una lista con la configuración encontrada dado un valor N. En caso de no haber solución, debe devolver una lista vacía.\n",
    "</p> <p>\n",
    "Es importante destacar que tendréis que prestar especial atención a la complejidad de vuestra solución, dado que el problema crece de forma no polinómica y para un valor $N>12$ podría tardar horas. Hay diferentes aproximaciones para resolverlo. Bien hecho, $N=12$ debería tardar escasos segundos. Si haces varias versiones, puedes entregarlas junto con la comparativa de complejidad correspondiente.</p>\n",
    "</div>"
   ]
  },
  {
   "cell_type": "markdown",
   "metadata": {},
   "source": [
    "CODIGO CORREGIDO"
   ]
  },
  {
   "cell_type": "code",
   "execution_count": 5,
   "metadata": {},
   "outputs": [],
   "source": [
    "'''\n",
    "Implementa aquí tu solución. Debe devolver una lista con las cartas ordenadas tal y como se especifica\n",
    "en el enunciado o None en caso de no existir solución para la entrada dada.\n",
    "'''\n",
    "def solve_deck(n, sol, placed):\n",
    "    # If no more 0s in sol, we're done.\n",
    "    if not sol.count(0):\n",
    "        return sol,placed\n",
    "    \n",
    "    # Try placing numbers from bigger to smaller\n",
    "    for i in range(n-1,-1,-1):\n",
    "        # If i+1 hasn't been placed yet\n",
    "        if not placed[i]:\n",
    "            val=i+1                      # The actual number\n",
    "            pos1=sol.index(0)            # First available position\n",
    "            pos2=pos1+val+1              # Where should the next go\n",
    "            # If next is within list and available\n",
    "            if pos2<n*2 and sol[pos2]==0:\n",
    "                # Place number in solution and keep going\n",
    "                placed[i] = True         \n",
    "                sol[pos1] = val\n",
    "                sol[pos2] = val\n",
    "                sol,placed=solve_deck(n,sol,placed)\n",
    "                if not sol.count(0):\n",
    "                    # If already finished, keep returning\n",
    "                    return sol,placed\n",
    "                else:\n",
    "                    # Otherwise, backtrack\n",
    "                    placed[i]=False\n",
    "                    sol[pos1]=0\n",
    "                    sol[pos2]=0\n",
    "    return sol,placed\n",
    "\n",
    "# Encontrado empiricamente\n",
    "def has_sol(x):\n",
    "    return (x % 4 == 0) or ((x+1) % 4 == 0)\n",
    "\n",
    "def deck(n):\n",
    "    # Initialise sol as a list of 0s\n",
    "    if has_sol(n): return solve_deck(n,[0]*(2*n),[0]*n)[0]"
   ]
  },
  {
   "cell_type": "code",
   "execution_count": 7,
   "metadata": {},
   "outputs": [
    {
     "name": "stdout",
     "output_type": "stream",
     "text": [
      "Sol 1: NO ENCONTRADA\n",
      "Sol 2: NO ENCONTRADA\n",
      "Sol 3:  3-1-2-1-3-2\n",
      "Sol 4:  4-1-3-1-2-4-3-2\n",
      "Sol 5: NO ENCONTRADA\n",
      "Sol 6: NO ENCONTRADA\n",
      "Sol 7:  7-4-1-5-1-6-4-3-7-5-2-3-6-2\n",
      "Sol 8:  8-6-4-2-7-5-2-4-6-8-3-5-7-1-3-1\n",
      "Sol 9: NO ENCONTRADA\n",
      "Sol 10: NO ENCONTRADA\n",
      "Sol 11:  11-9-7-5-10-2-6-8-2-5-7-9-11-6-4-10-8-3-1-4-1-3\n",
      "Sol 12:  12-10-11-6-4-5-9-7-8-4-6-5-10-12-11-7-9-8-3-1-2-1-3-2\n",
      "Sol 13: NO ENCONTRADA\n",
      "Sol 14: NO ENCONTRADA\n",
      "Sol 15:  15-13-14-10-8-6-4-2-11-12-2-4-6-8-10-13-15-14-9-7-11-3-12-5-1-3-1-7-9-5\n",
      "Sol 16:  16-14-15-11-9-7-13-4-2-12-10-2-4-7-9-11-14-16-15-8-13-10-12-5-6-1-3-1-8-5-3-6\n",
      "Sol 17: NO ENCONTRADA\n",
      "Sol 18: NO ENCONTRADA\n",
      "Sol 19:  19-17-18-14-12-16-9-7-5-15-2-11-13-2-5-7-9-12-14-17-19-18-16-11-10-15-13-8-3-4-6-1-3-1-4-10-8-6\n"
     ]
    }
   ],
   "source": [
    "for n in range(1,20):\n",
    "    sol = deck(n)\n",
    "    if sol:\n",
    "        print(\"Sol \"+str(n)+\": \",\"-\".join(map(str,sol)))\n",
    "    else:\n",
    "        print(\"Sol \"+str(n)+\": NO ENCONTRADA\")"
   ]
  },
  {
   "cell_type": "markdown",
   "metadata": {},
   "source": [
    "MI CODIGO"
   ]
  },
  {
   "cell_type": "code",
   "execution_count": 3,
   "metadata": {},
   "outputs": [],
   "source": [
    "'''\n",
    "Implementa aquí tu solución. Debe devolver una lista con las cartas ordenadas tal y como se especifica\n",
    "en el enunciado o None en caso de no existir solución para la entrada dada.\n",
    "'''\n",
    "def deck(n):\n",
    "    cards={i:True for i in range(1,n+1)}\n",
    "    order=[ 0 for i in range(2*n)]\n",
    "    return backtrack(0,cards,order)\n",
    "    \n",
    "    \n",
    "def backtrack(j,cards,order):\n",
    "    n=len(cards)\n",
    "    if j==2*n:\n",
    "        return order\n",
    "    if order[j]==0:\n",
    "        for i in range(1,n+1):\n",
    "\n",
    "            if i+j+1>=2*n:\n",
    "                return None\n",
    "            if cards[i] and order[i+j+1]==0:\n",
    "                order[j]=i\n",
    "                order[i+j+1]=i\n",
    "                cards[i]=False\n",
    "                check=backtrack(j+1,cards,order)\n",
    "                if check:\n",
    "                    return check\n",
    "                else:\n",
    "                    order[j]=0\n",
    "                    order[i+j+1]=0\n",
    "                    cards[i]=True\n",
    "    else:\n",
    "        return backtrack(j+1,cards,order)\n",
    "\n",
    "\n",
    "    return None"
   ]
  },
  {
   "cell_type": "code",
   "execution_count": 4,
   "metadata": {},
   "outputs": [
    {
     "name": "stdout",
     "output_type": "stream",
     "text": [
      "Sol 1: NO ENCONTRADA\n",
      "Sol 2: NO ENCONTRADA\n",
      "Sol 3:  2-3-1-2-1-3\n",
      "Sol 4:  2-3-4-2-1-3-1-4\n",
      "Sol 5: NO ENCONTRADA\n",
      "Sol 6: NO ENCONTRADA\n",
      "Sol 7:  1-4-1-5-6-7-4-2-3-5-2-6-3-7\n",
      "Sol 8:  1-3-1-6-7-3-8-5-2-4-6-2-7-5-4-8\n",
      "Sol 9: NO ENCONTRADA\n",
      "Sol 10: NO ENCONTRADA\n",
      "Sol 11:  1-2-1-4-2-8-9-10-4-11-6-3-7-5-8-3-9-6-10-5-7-11\n"
     ]
    }
   ],
   "source": [
    "for n in range(1,12):\n",
    "    sol = deck(n)\n",
    "    if sol:\n",
    "        print(\"Sol \"+str(n)+\": \",\"-\".join(map(str,sol)))\n",
    "    else:\n",
    "        print(\"Sol \"+str(n)+\": NO ENCONTRADA\")"
   ]
  },
  {
   "cell_type": "markdown",
   "metadata": {},
   "source": [
    "## Analiza el coste de tu/s implementación/es:"
   ]
  },
  {
   "cell_type": "markdown",
   "metadata": {},
   "source": [
    "#### Aquí tu respuesta\n",
    "Complejidad o(n)"
   ]
  },
  {
   "cell_type": "markdown",
   "metadata": {},
   "source": [
    "<div class=\"alert alert-info\">\n",
    "<center>\n",
    "  <h1>Ramificación y poda</h1>\n",
    "</center>\n",
    "</div>"
   ]
  },
  {
   "cell_type": "markdown",
   "metadata": {},
   "source": [
    "\n",
    "<div class=\"alert alert-success\" style=\"width:90%; margin:0 auto;\">\n",
    "  <h2><p>1. Mochila</p></h2>\n",
    "  \n",
    "   <p> En esta primera sección trabajaremos con el problema de la mochila que ya vimos en problemas Greedy y PD. Refrequemos un poco (por si aún no lo tenéis claro):\n",
    "</p>\n",
    "    Nos encontramos en una habitación en la que hay $N$ objetos con pesos $w_1, w_2, w_3 ... w_N$ y tenemos una mochila que puede soportar una carga máxima de $W$. En este caso se pide que realicéis una implementación de Ramificación y Poda para resolver el problema de la mochila con valor:\n",
    "<br><br>\n",
    " **mochila_valor:** Cada objeto tendrá asignado un valor $v_1, v_2, v_3 ... v_N$. Buscamos llenar la mochila maximizando el valor total de la mochila pero sin superar la capacidad máxima. Es decir queremos encontrar la combinación de objetos $b$ tal que $\\arg_{b} \\max{\\sum_{i=0}^{N}{v_i · b_i}}$ con la condición de que $\\sum_{i=0}^{N}{(w_i · b_i)}\\leq W$.\n",
    "     <br><br>\n",
    "Trabajaremos únicamente con la versión de la mochila en la que tenemos una cantidad limitada $c_1, c_2, c_3 ... c_N$ de objetos.</div>\n"
   ]
  },
  {
   "cell_type": "code",
   "execution_count": 11,
   "metadata": {},
   "outputs": [],
   "source": [
    "import random as rd\n",
    "\n",
    "# Genera un conjunto de objetos de prueba en forma de una lista de listas, \n",
    "# cada una de las cuales representa un elemento [peso,valor,cantidad]\n",
    "def random_objects():\n",
    "    objects = [[p,v,c] for p,v,c in zip(rd.sample(range(1, 50), k=10), rd.sample(range(1, 100), k=10),rd.sample(range(1, 15), k=10))]\n",
    "    return objects"
   ]
  },
  {
   "cell_type": "markdown",
   "metadata": {},
   "source": [
    "CODIGO CORREGIDO 1"
   ]
  },
  {
   "cell_type": "code",
   "execution_count": 12,
   "metadata": {},
   "outputs": [],
   "source": [
    "import copy\n",
    "import heapq as hq\n",
    "\n",
    "def greedy_knapsack(B):\n",
    "    B.sort(key=lambda elem: elem[1]/elem[0],reverse=True)\n",
    "    D = copy.deepcopy(B)\n",
    "    x = []\n",
    "    w = 0\n",
    "    v = 0\n",
    "    # Mientras no se cumpla el criterio de terminación\n",
    "    while D and w + min(D,key=lambda elem: elem[0])[0] < W:\n",
    "        # Escoge un elemento\n",
    "        elem = D.pop(0)\n",
    "        available_weight = W - w\n",
    "        how_many = min([available_weight//elem[0],elem[2]])\n",
    "        if how_many > 0:\n",
    "            x.append([elem[0],elem[1],how_many])\n",
    "            w += elem[0]*how_many\n",
    "            v += elem[1]*how_many\n",
    "    # Devuelve la solución y la métrica\n",
    "    return x,w,v,D\n",
    "''' \n",
    "Implementa aquí la solución de Ramificación y poda que resuelve el problema de la mochila\n",
    "@input: (D) Lista de listas con la forma [peso,valor,cantidad] representando los objetos que podemos escoger.\n",
    "        (W) Entero que representa la capacidad de la mochila.\n",
    "@output: Lista de listas con la forma [peso,valor,cantidad] representando los objetos escogidos.\n",
    "'''\n",
    "class Knapsack:\n",
    "    def __init__(self,D,W,x = None,w = 0, v = 0, b = 0):\n",
    "        self.x = x if x else list()\n",
    "        self.D = D\n",
    "        self.W = W\n",
    "        self.weight = w\n",
    "        self.value = v\n",
    "        self.best = D[0] if len(D) else b\n",
    "    \n",
    "    # Current value + expected better than best solution\n",
    "    def is_promising(self,val):\n",
    "        return (self.value + self.optimistic()) > val\n",
    "    \n",
    "    # The lightest object fits the remaining space\n",
    "    def is_complete(self):\n",
    "        return self.weight + min(self.D,key=lambda elem: elem[0])[0] >= self.W\n",
    "    \n",
    "    def optimistic(self,opt=1):\n",
    "        if opt:\n",
    "            # Assume we can fill knapsack with unlimited copies of the object with best weight/value ratio\n",
    "            return ((self.W-self.weight)//self.best[0])*self.best[1]\n",
    "        else:\n",
    "            # Relax maximum knapsack capacity (grab every object remaining)\n",
    "            return sum([obj[1]*obj[2] for obj in self.D])\n",
    "    \n",
    "    # Possible objects\n",
    "    def possible(self):\n",
    "        pos = []\n",
    "        if not self.is_complete():\n",
    "            available_space = self.W - self.weight\n",
    "            for el,i in zip(self.D,range(len(self.D))):\n",
    "                if el[0] <= available_space: \n",
    "                    pos.append((el,i))\n",
    "            return pos\n",
    "        else:\n",
    "            return []\n",
    "    \n",
    "    # Add element to solution and remove from objects list\n",
    "    def add_elem(self,elem):\n",
    "        e,i = elem[0],elem[1]\n",
    "        Daux = copy.deepcopy(self.D)\n",
    "        Daux[i][2] -= 1\n",
    "        if Daux[i][2] == 0:\n",
    "            del Daux[i]\n",
    "        \n",
    "        return Knapsack(Daux,self.W,self.x+[[e[0],e[1],1]],self.weight + e[0],self.value + e[1],self.best)\n",
    "    \n",
    "    # Format the solution\n",
    "    def compact(self):\n",
    "        objects = dict() \n",
    "        for i in self.x:\n",
    "            objects[(i[0],i[1])] = objects.get((i[0],i[1]),0) + i[2]\n",
    "        return [[k[0],k[1],v] for k,v in objects.items()]\n",
    "    \n",
    "    # Compare two states\n",
    "    def __lt__(self,other,opt=0):\n",
    "        if opt:\n",
    "            return self.optimistic() < other.optimistic()\n",
    "        else:\n",
    "            return (self.value + self.optimistic()) < (other.value + other.optimistic())\n",
    "    \n",
    "    def __str__(self):\n",
    "        return \"Remaining objects:\" + str(self.D) + '\\nSolution:' + str(sorted(self.compact())) + \"; V \" + str(self.value) + '; W ' + str(self.weight)\n",
    "    \n",
    "def knapsack_branch(D,W):\n",
    "    # Initial solution\n",
    "    b_x,b_w,b_v,extraD = greedy_knapsack(D)\n",
    "    best = Knapsack(extraD,W,b_x,b_w,b_v)\n",
    "    print('GREEDY SOLUTION FOUND: \\n' + str(best))\n",
    "    \n",
    "    # Initialise exploration\n",
    "    queue = [Knapsack(D,W)]\n",
    "    expanded = 0\n",
    "    explored_states = set()\n",
    "    \n",
    "    # Explore states\n",
    "    while len(queue) > 0:\n",
    "        # Get best (potencially) possible state\n",
    "        current = hq.heappop(queue)\n",
    "        if str(current) in explored_states: continue\n",
    "        explored_states.add(str(current))\n",
    "        expanded += 1\n",
    "        # If can't add more objects and improves best solution\n",
    "        if current.is_complete() and best.value < current.value:\n",
    "            # Update best\n",
    "            best = copy.deepcopy(current)\n",
    "        # If current is worth exploring\n",
    "        if current.is_promising(best.value):\n",
    "            for el in current.possible():\n",
    "                poss = current.add_elem(el)\n",
    "                if str(poss) not in explored_states:\n",
    "                    hq.heappush(queue,poss)\n",
    "        \n",
    "    return best\n"
   ]
  },
  {
   "cell_type": "code",
   "execution_count": 13,
   "metadata": {},
   "outputs": [
    {
     "name": "stdout",
     "output_type": "stream",
     "text": [
      "AVAILABLE OBJECTS: \n",
      "[[37, 41, 11], [6, 99, 2], [32, 3, 4], [17, 35, 10], [3, 63, 9], [1, 26, 5], [10, 94, 13], [38, 53, 7], [31, 69, 12], [24, 70, 3]]\n",
      "GREEDY SOLUTION FOUND: \n",
      "Remaining objects:[[24, 70, 3], [31, 69, 12], [17, 35, 10], [38, 53, 7], [37, 41, 11], [32, 3, 4]]\n",
      "Solution:[[1, 26, 5], [3, 63, 9], [6, 99, 2], [10, 94, 10]]; V 1835; W 144\n",
      "FINAL SOLUTION: \n",
      "Remaining objects:[[1, 26, 1], [3, 63, 1], [10, 94, 2], [24, 70, 3], [31, 69, 12], [17, 35, 10], [38, 53, 7], [37, 41, 11], [32, 3, 4]]\n",
      "Solution:[[1, 26, 4], [3, 63, 8], [6, 99, 2], [10, 94, 11]]; V 1840; W 150\n"
     ]
    }
   ],
   "source": [
    "rd.seed(6) # fijando el seed obtenemos siempre la misma mochila\n",
    "D = random_objects()\n",
    "W = 150\n",
    "print('AVAILABLE OBJECTS: \\n' + str(D))\n",
    "sol = knapsack_branch(D,W)\n",
    "print('FINAL SOLUTION: \\n' + str(sol))"
   ]
  },
  {
   "cell_type": "markdown",
   "metadata": {},
   "source": [
    "MI CODIGO"
   ]
  },
  {
   "cell_type": "code",
   "execution_count": 6,
   "metadata": {},
   "outputs": [],
   "source": [
    "''' \n",
    "Implementa aquí la solución de Ramificación y poda que resuelve el problema de la mochila\n",
    "@input: (D) Lista de listas con la forma [peso,valor,cantidad] representando los objetos que podemos escoger.\n",
    "        (W) Entero que representa la capacidad de la mochila.\n",
    "@output: Lista de listas con la forma [peso,valor,cantidad] representando los objetos escogidos.\n",
    "'''\n",
    "from heapq import heappush, heappop\n",
    "def knapsack_branch(D,W):\n",
    "    #Primero creamos una lista con todos los objetos que podemos meter.\n",
    "    objects = []\n",
    "    for ele in D:\n",
    "        for i in range(ele[2]):\n",
    "            objects.append(ele[:2])\n",
    "    objects.sort(key = lambda x: x[1]/x[0], reverse = True)\n",
    "    w = 0\n",
    "    best = []\n",
    "    lb = 0\n",
    "    for ele in objects:\n",
    "        if w + ele[0] > W: continue\n",
    "        lb += ele[1]\n",
    "        w += ele[0]\n",
    "        best.append(ele)\n",
    "    cont=0\n",
    "    heap = [(upper_bound(objects, 0, 0, W), cont,{'value': 0, 'weight': 0, 'index': 0, 'in': []})]\n",
    "    while heap:\n",
    "        actual = heappop(heap)[2]\n",
    "        if(actual['value'] > lb):\n",
    "            lb = actual['value']\n",
    "            best = actual['in']\n",
    "        if(actual['index'] + 1 == len(objects)): continue\n",
    "        cont+=1\n",
    "        #Rama izquierda(no entra)\n",
    "        ub_left = upper_bound(objects[actual['index']+1:], actual['value'], actual['weight'], W)\n",
    "        if(ub_left > lb):\n",
    "            heappush(heap, (ub_left,cont, {'value': actual['value'], 'weight': actual['weight'], 'index': actual['index']+1, 'in': actual['in']}))\n",
    "        cont+=1\n",
    "        #Rama derecha(entra)\n",
    "        w_right = actual['weight'] + objects[actual['index']][0]\n",
    "        if w_right <= W:\n",
    "            v_right = actual['value'] + objects[actual['index']][1]\n",
    "            ub_right = upper_bound(objects[actual['index']+1:], v_right, w_right, W)\n",
    "            heappush(heap, (ub_right,cont, {'value': v_right, 'weight': w_right, 'index': actual['index']+1, 'in': actual['in'] + [objects[actual['index']]]}))\n",
    "    return best\n",
    "\n",
    "def upper_bound(objects, val, pes, W):\n",
    "    for ele in objects:\n",
    "        val += ele[1]\n",
    "        pes += ele[0]\n",
    "        if pes >= W: break\n",
    "    return val\n"
   ]
  },
  {
   "cell_type": "code",
   "execution_count": 7,
   "metadata": {},
   "outputs": [
    {
     "name": "stdout",
     "output_type": "stream",
     "text": [
      "D [[20, 87, 4], [12, 33, 10], [36, 38, 3], [26, 90, 6], [8, 74, 9], [35, 18, 7], [49, 1, 12], [21, 19, 14], [18, 13, 5], [7, 88, 2]]\n",
      "[[7, 88], [7, 88], [8, 74], [8, 74], [8, 74], [8, 74], [8, 74], [8, 74], [8, 74], [8, 74], [8, 74], [20, 87], [20, 87], [20, 87]]\n"
     ]
    }
   ],
   "source": [
    "#rd.seed(0) # fijando el seed obtenemos siempre la misma mochila\n",
    "D = random_objects()\n",
    "print(\"D\",D)\n",
    "W = 150\n",
    "print(knapsack_branch(D,W))"
   ]
  },
  {
   "cell_type": "markdown",
   "metadata": {},
   "source": [
    "### Analiza el coste de tu implementación. Comparalo además con el coste de las implementaciones greedy y dinámica. Compara también la optimalidad de la solución en los tres casos."
   ]
  },
  {
   "cell_type": "markdown",
   "metadata": {},
   "source": [
    "#### Aquí tu respuesta"
   ]
  },
  {
   "cell_type": "markdown",
   "metadata": {},
   "source": [
    "\n",
    "<div class=\"alert alert-success\" style=\"width:90%; margin:0 auto;\">\n",
    "  <h2><p>2 - Orden de Ensamblaje</p></h2>\n",
    "  \n",
    "  <div class=\"row\">\n",
    "  <div>\n",
    "  <p style=\"text-align: justify; padding-right: 30px\">\n",
    "La construcción de un artefacto requiere ensamblar $M$ piezas que identiﬁcamos con números entre $1$ y $M$. El coste de ensamblar la pieza $i$ depende del número de piezas ya ensambladas. Los costes, que son valores positivos, se nos proporcionan en una matriz $C$. La celda $c_{ij}$ es el coste de ensamblar la pieza $i$ cuando ya se han ensamblado $j$ piezas. Deseamos calcular el orden de ensamblado de menor coste total, entendido éste como la suma del coste de ensamblaje de cada una de las piezas. \n",
    "  Implementa mediante ramificación y poda una solución a este problema con tal de encontrar el listado ordenado de piezas cuyo coste total de ensamblaje sea mínimo.\n",
    "  </p>\n",
    "  </div>\n",
    "    </div>\n"
   ]
  },
  {
   "cell_type": "markdown",
   "metadata": {},
   "source": [
    "<div class=\"alert alert-danger\" style=\"width:80%; margin:0 auto; padding\">\n",
    "<center><p><h3> Código </h3></p> </center> \n",
    "\n",
    "<p>\n",
    "<h3>INPUT</h3>\n",
    "<ul>\n",
    "<li>C: Matriz de costes de tamaño $M\\times M$, donde M es el número de piezas. El elemento $i,j$ de la matriz representa el coste de ensamblaje para la pieza $i$ tras haber colocado $j$ piezas. \n",
    "</li>\n",
    "</ul>\n",
    "<br>\n",
    "<h3>OUTPUT</h3>\n",
    "Lista de números de $1$ a $M$ ordenados de forma que el coste total de ensamblaje sea mínimo. Ej: [5, 3, 2, 4, 1]\n",
    "</p>\n",
    "\n",
    "</div>"
   ]
  },
  {
   "cell_type": "code",
   "execution_count": 14,
   "metadata": {},
   "outputs": [],
   "source": [
    "\n",
    "from random import shuffle,randint\n",
    "import numpy as np\n",
    "import copy\n",
    "import heapq as hq\n",
    "import time\n",
    "\n",
    "class State:\n",
    "    def __init__(self,M,C,sol=None,cost=0,to_ensemble=None,unvisited=None,var=2):\n",
    "        self.size = M\n",
    "        self.cost_mat = C\n",
    "        \n",
    "        # Ordered objects\n",
    "        self.sol = sol if sol else list()\n",
    "        \n",
    "        # Ensembling cost so far\n",
    "        self.cost = cost\n",
    "        \n",
    "        # List of elements not yet ensembled\n",
    "        if unvisited == None:\n",
    "            self.unvisited = list(range(M))\n",
    "        else:\n",
    "            self.unvisited = copy.copy(unvisited)\n",
    "            self.unvisited.remove(sol[-1])\n",
    "        \n",
    "        # Table that represents which objects have been ensembled\n",
    "        if not to_ensemble:\n",
    "            self.to_ensemble = [True] * M\n",
    "        else:\n",
    "            self.to_ensemble = copy.copy(to_ensemble)\n",
    "            self.to_ensemble[sol[-1]] = False\n",
    "        \n",
    "        # Expectation of cost\n",
    "        self.optimistic = self.get_optimistic()\n",
    "        \n",
    "        # To choose from different sorting ways\n",
    "        self.var = var\n",
    "            \n",
    "    def ensemble_obj(self,O):\n",
    "        return State(self.size, self.cost_mat, self.sol + [O], self.cost + self.cost_mat[O][len(self.sol)], self.to_ensemble, self.unvisited,self.var)\n",
    "    \n",
    "    def possible(self):\n",
    "        return self.unvisited\n",
    "    \n",
    "    def is_complete(self):\n",
    "        return len(self.sol) == self.size\n",
    "    \n",
    "    def get_optimistic(self):\n",
    "        return self.cost + np.sum(np.min(self.cost_mat[self.to_ensemble],axis=1))\n",
    "    \n",
    "    def is_promising(self,best_value):\n",
    "        return self.optimistic < best_value\n",
    "    \n",
    "    def value(self):\n",
    "        return self.cost\n",
    "    \n",
    "    def __lt__(self,other):\n",
    "        if self.var == 1:\n",
    "            num_obj1 = len(self.sol)\n",
    "            num_obj2 = len(other.sol)\n",
    "            # In which one does each object cost more (on average)\n",
    "            cost_per_object1 = self.cost / num_obj1\n",
    "            cost_per_object2 = other.cost / num_obj2\n",
    "            \n",
    "            # In which one will each object cost more (on average)\n",
    "            opt_cpo1 = (self.optimistic - self.cost) / (self.size - num_obj1)\n",
    "            opt_cpo2 = (other.optimistic - other.cost) / (other.size - num_obj2)\n",
    "            \n",
    "            return (cost_per_object1 + opt_cpo1)/2 < (cost_per_object2 + opt_cpo2) / 2     \n",
    "        else:\n",
    "            return self.optimistic < other.optimistic\n",
    "    \n",
    "    def get_id(self):\n",
    "        return str(self.sol)\n",
    "\n",
    "def weight_solution(sol,C):\n",
    "    return sum([C[x,y] for x,y in zip(sol,range(C.shape[0]))])\n",
    "\n",
    "def branch_ensemble(C):\n",
    "    \"\"\"\n",
    "    Función que obtiene el orden óptimo de las piezas tal que el coste total es mínimo.\n",
    "    Args:\n",
    "        - C: matriz de costes M x M\n",
    "    \"\"\"\n",
    "    M = C.shape[0]\n",
    "    \n",
    "    # Start queue\n",
    "    queue = [State(M,C,var=2)]\n",
    "    \n",
    "    # Random initial solution\n",
    "    best_sol = list(range(M)) \n",
    "    shuffle(best_sol)\n",
    "    \n",
    "    # Cost of the initial solution\n",
    "    best_val = weight_solution(best_sol,C)\n",
    "    #print(\"sol: \",str(best_sol)+\" \"+str(best_val))\n",
    "    expanded = 0\n",
    "    explored_states = set()\n",
    "    \n",
    "    # Main loop\n",
    "    while queue:\n",
    "        # Get most promising value\n",
    "        current = hq.heappop(queue)\n",
    "        if current.get_id() in explored_states: continue\n",
    "        explored_states.add(current.get_id())\n",
    "        expanded += 1\n",
    "        \n",
    "        # If is a complete solution, check value\n",
    "        if current.is_complete() and current.value() < best_val:\n",
    "            best_sol = current.sol\n",
    "            best_val = current.value()\n",
    "            #print(\"sol: \",str(best_sol)+\" \"+str(best_val))\n",
    "            continue\n",
    "        \n",
    "        # If current is promising, branch\n",
    "        if current.is_promising(best_val):\n",
    "            for obj in current.possible():\n",
    "                new = current.ensemble_obj(obj)\n",
    "                # If new is not promising, bound\n",
    "                if new.is_promising(best_val) and new.get_id() not in explored_states:\n",
    "                    hq.heappush(queue,new)\n",
    "        else:\n",
    "            break\n",
    "\n",
    "    return best_sol,expanded"
   ]
  },
  {
   "cell_type": "code",
   "execution_count": 16,
   "metadata": {},
   "outputs": [
    {
     "name": "stdout",
     "output_type": "stream",
     "text": [
      "([6, 2, 5, 3, 8, 4, 7, 0, 1], 77)\n"
     ]
    }
   ],
   "source": [
    "from random import uniform\n",
    "\n",
    "def rand_params(max_size):\n",
    "    # Número de piezas\n",
    "    M = randint(5,max_size) \n",
    "    # Matriz de costes generada aleatoriamente\n",
    "    C = np.random.uniform(1,25,(M,M))\n",
    "    \n",
    "    return C\n",
    "\n",
    "C = rand_params(15)\n",
    "\n",
    "solucion = branch_ensemble(C)\n",
    "print(solucion)"
   ]
  },
  {
   "cell_type": "code",
   "execution_count": 17,
   "metadata": {
    "scrolled": true
   },
   "outputs": [
    {
     "ename": "AttributeError",
     "evalue": "'dict' object has no attribute 'shape'",
     "output_type": "error",
     "traceback": [
      "\u001b[1;31m---------------------------------------------------------------------------\u001b[0m",
      "\u001b[1;31mAttributeError\u001b[0m                            Traceback (most recent call last)",
      "\u001b[1;32m<ipython-input-17-c3e0714886de>\u001b[0m in \u001b[0;36m<module>\u001b[1;34m()\u001b[0m\n\u001b[0;32m      9\u001b[0m         \u001b[0mC\u001b[0m\u001b[1;33m[\u001b[0m\u001b[0mi\u001b[0m\u001b[1;33m]\u001b[0m\u001b[1;33m[\u001b[0m\u001b[0mj\u001b[0m\u001b[1;33m]\u001b[0m \u001b[1;33m=\u001b[0m \u001b[0muniform\u001b[0m\u001b[1;33m(\u001b[0m\u001b[1;36m1\u001b[0m\u001b[1;33m,\u001b[0m \u001b[1;36m25\u001b[0m\u001b[1;33m)\u001b[0m\u001b[1;33m\u001b[0m\u001b[0m\n\u001b[0;32m     10\u001b[0m \u001b[1;33m\u001b[0m\u001b[0m\n\u001b[1;32m---> 11\u001b[1;33m \u001b[0msolucion\u001b[0m \u001b[1;33m=\u001b[0m \u001b[0mbranch_ensemble\u001b[0m\u001b[1;33m(\u001b[0m\u001b[0mC\u001b[0m\u001b[1;33m)\u001b[0m\u001b[1;33m\u001b[0m\u001b[0m\n\u001b[0m\u001b[0;32m     12\u001b[0m \u001b[0mprint\u001b[0m\u001b[1;33m(\u001b[0m\u001b[0msolucion\u001b[0m\u001b[1;33m)\u001b[0m\u001b[1;33m\u001b[0m\u001b[0m\n",
      "\u001b[1;32m<ipython-input-14-e5bd6970a390>\u001b[0m in \u001b[0;36mbranch_ensemble\u001b[1;34m(C)\u001b[0m\n\u001b[0;32m     83\u001b[0m         \u001b[1;33m-\u001b[0m \u001b[0mC\u001b[0m\u001b[1;33m:\u001b[0m \u001b[0mmatriz\u001b[0m \u001b[0mde\u001b[0m \u001b[0mcostes\u001b[0m \u001b[0mM\u001b[0m \u001b[0mx\u001b[0m \u001b[0mM\u001b[0m\u001b[1;33m\u001b[0m\u001b[0m\n\u001b[0;32m     84\u001b[0m     \"\"\"\n\u001b[1;32m---> 85\u001b[1;33m     \u001b[0mM\u001b[0m \u001b[1;33m=\u001b[0m \u001b[0mC\u001b[0m\u001b[1;33m.\u001b[0m\u001b[0mshape\u001b[0m\u001b[1;33m[\u001b[0m\u001b[1;36m0\u001b[0m\u001b[1;33m]\u001b[0m\u001b[1;33m\u001b[0m\u001b[0m\n\u001b[0m\u001b[0;32m     86\u001b[0m \u001b[1;33m\u001b[0m\u001b[0m\n\u001b[0;32m     87\u001b[0m     \u001b[1;31m# Start queue\u001b[0m\u001b[1;33m\u001b[0m\u001b[1;33m\u001b[0m\u001b[0m\n",
      "\u001b[1;31mAttributeError\u001b[0m: 'dict' object has no attribute 'shape'"
     ]
    }
   ],
   "source": [
    "from random import uniform\n",
    "\n",
    "M = 10 # Número de piezas\n",
    "# Matriz de costes generada aleatoriamente\n",
    "C = {}\n",
    "for i in range(M):\n",
    "    C[i] = {}\n",
    "    for j in range(M):\n",
    "        C[i][j] = uniform(1, 25)\n",
    "\n",
    "solucion = branch_ensemble(C)\n",
    "print(solucion)"
   ]
  },
  {
   "cell_type": "markdown",
   "metadata": {},
   "source": [
    "### En esta sección debéis responder a las preguntas siguientes:\n",
    "#### 1. Explica cómo has realizado tu implementación, enfatizando en la heurística empleada.\n",
    "#### 2. Análisis de complejidad de la implementación"
   ]
  },
  {
   "cell_type": "markdown",
   "metadata": {
    "collapsed": true
   },
   "source": [
    "#### Escribe aquí tus respuestas"
   ]
  }
 ],
 "metadata": {
  "kernelspec": {
   "display_name": "Python 3",
   "language": "python",
   "name": "python3"
  },
  "language_info": {
   "codemirror_mode": {
    "name": "ipython",
    "version": 3
   },
   "file_extension": ".py",
   "mimetype": "text/x-python",
   "name": "python",
   "nbconvert_exporter": "python",
   "pygments_lexer": "ipython3",
   "version": "3.6.5"
  }
 },
 "nbformat": 4,
 "nbformat_minor": 1
}
